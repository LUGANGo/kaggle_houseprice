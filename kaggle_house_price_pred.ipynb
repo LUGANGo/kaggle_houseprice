{
 "cells": [
  {
   "cell_type": "code",
   "execution_count": 18,
   "id": "88e938f4",
   "metadata": {},
   "outputs": [],
   "source": [
    "import torch\n",
    "import torch.nn as nn\n",
    "import numpy as np\n",
    "import pandas as pd\n",
    "import torch.utils.data as Data\n",
    "import matplotlib.pyplot as plt"
   ]
  },
  {
   "cell_type": "code",
   "execution_count": 3,
   "id": "0f6e0cd1",
   "metadata": {},
   "outputs": [],
   "source": [
    "train_data_path = r\"C:\\Users\\DZL102\\Desktop\\kaggle\\kaggle_house_pred_train.csv\"\n",
    "train_data = pd.read_csv(train_data_path, sep=\",\", header=0)\n",
    "test_data_path = r\"C:\\Users\\DZL102\\Desktop\\kaggle\\kaggle_house_pred_test.csv\"\n",
    "test_data = pd.read_csv(test_data_path, sep=\",\", header=0)"
   ]
  },
  {
   "cell_type": "code",
   "execution_count": 9,
   "id": "0cdde32f",
   "metadata": {},
   "outputs": [
    {
     "data": {
      "text/plain": [
       "(2919, 331)"
      ]
     },
     "execution_count": 9,
     "metadata": {},
     "output_type": "execute_result"
    }
   ],
   "source": [
    "# print(train_data.head(5))\n",
    "# print(train_data.shape)\n",
    "all_features = pd.concat((train_data.iloc[:, 1:-1], test_data.iloc[:, 1:]))  # 竖向拼接\n",
    "\n",
    "numeric_features = all_features.dtypes[all_features.dtypes != 'object'].index\n",
    "all_features[numeric_features] = all_features[numeric_features].apply(\n",
    "    lambda x: (x - x.mean()) / (x.std()))\n",
    "# print(all_features)\n",
    "# 标准化后，每个数值特征的均值变为0，所以可以直接用0来替换缺失值\n",
    "all_features[numeric_features] = all_features[numeric_features].fillna(0)\n",
    "\n",
    "all_features = pd.get_dummies(all_features, dummy_na=True)\n",
    "all_features.shape"
   ]
  },
  {
   "cell_type": "code",
   "execution_count": 13,
   "id": "e6e3449e",
   "metadata": {},
   "outputs": [],
   "source": [
    "n_train = train_data.shape[0]\n",
    "train_features = torch.tensor(all_features[:n_train].values, dtype=torch.float32)\n",
    "test_features = torch.tensor(all_features[n_train:].values, dtype=torch.float32)\n",
    "train_labels = torch.tensor(train_data.SalePrice.values.reshape(-1, 1), dtype=torch.float32)"
   ]
  },
  {
   "cell_type": "code",
   "execution_count": 36,
   "id": "2d145c3f",
   "metadata": {},
   "outputs": [
    {
     "name": "stdout",
     "output_type": "stream",
     "text": [
      "fold 1, train log rmse 0.170161,valid log rmse 0.156618\n",
      "fold 2, train log rmse 0.161831,valid log rmse 0.189311\n",
      "fold 3, train log rmse 0.163874,valid log rmse 0.168740\n",
      "fold 4, train log rmse 0.168387,valid log rmse 0.155154\n",
      "fold 5, train log rmse 0.162836,valid log rmse 0.182778\n"
     ]
    },
    {
     "data": {
      "image/png": "[encoded data removed]",
      "text/plain": [
       "<Figure size 432x288 with 1 Axes>"
      ]
     },
     "metadata": {
      "needs_background": "light"
     },
     "output_type": "display_data"
    },
    {
     "name": "stdout",
     "output_type": "stream",
     "text": [
      "5-折验证，平均训练log rmse: 0.165418，平均验证log rmse: 0.170520\n"
     ]
    }
   ],
   "source": [
    "# 训练\n",
    "class LinearReg(nn.Module):\n",
    "    def __init__(self, in_features):\n",
    "        super(LinearReg, self).__init__()\n",
    "        self.linear = nn.Linear(in_features, 1)\n",
    "        \n",
    "    def forward(self, x):\n",
    "        return self.linear(x)\n",
    "    \n",
    "\n",
    "loss = nn.MSELoss()\n",
    "\n",
    "\n",
    "def LogRmse(model, features, labels):\n",
    "    with torch.no_grad():\n",
    "        clipped_preds = torch.max(model(features), torch.tensor(1.0))\n",
    "        rmse = torch.sqrt(loss(torch.log(clipped_preds), torch.log(labels)))\n",
    "\n",
    "    return rmse.item()\n",
    "\n",
    "\n",
    "def train(model, train_features, train_labels, test_features, test_labels,\n",
    "         num_epochs, learning_rate, weight_decay, batch_size):\n",
    "    train_loss, test_loss = [], []\n",
    "    \n",
    "    train_dataset = Data.TensorDataset(train_features, train_labels)\n",
    "    train_loader = Data.DataLoader(train_dataset, batch_size, shuffle=True)\n",
    "    \n",
    "    optimizer = torch.optim.Adam(params=model.parameters(), lr=learning_rate, weight_decay=weight_decay)\n",
    "\n",
    "    for epoch in range(num_epochs):\n",
    "        for X, y in train_loader:\n",
    "            optimizer.zero_grad()\n",
    "            out = model(X)\n",
    "            l = loss(out, y)\n",
    "            l.backward()\n",
    "            optimizer.step()\n",
    "        train_loss.append(LogRmse(model, train_features, train_labels))\n",
    "        if test_labels is not None:\n",
    "            test_loss.append(LogRmse(model, test_features, test_labels))\n",
    "\n",
    "    return train_loss, test_loss\n",
    "        \n",
    "    \n",
    "def Get_K_Fold_Data(k, i, X, y):\n",
    "    fold_size = X.shape[0] // k\n",
    "    X_train, y_train = None, None\n",
    "    for j in range(k):\n",
    "        idx = slice(j * fold_size, (j + 1) * fold_size)\n",
    "        X_part, y_part = X[idx, :], y[idx]\n",
    "        if j == i:\n",
    "            X_valid, y_valid = X_part, y_part\n",
    "        elif X_train is None:\n",
    "            X_train, y_train = X_part, y_part\n",
    "        else:\n",
    "            X_train = torch.cat([X_train, X_part], 0)\n",
    "            y_train = torch.cat([y_train, y_part], 0)\n",
    "    return X_train, y_train, X_valid, y_valid\n",
    "\n",
    "\n",
    "def K_fold(k, X_train, y_train, num_epochs,\n",
    "           learning_rate, weight_decay, batch_size):\n",
    "    train_l_sum, valid_l_sum = 0, 0\n",
    "    for i in range(k):\n",
    "        data = Get_K_Fold_Data(k, i, X_train, y_train)\n",
    "        model = LinearReg(X_train.shape[1])\n",
    "        train_ls, valid_ls = train(model, *data, num_epochs, learning_rate, weight_decay, batch_size)\n",
    "        train_l_sum += train_ls[-1]\n",
    "        valid_l_sum += valid_ls[-1]\n",
    "        \n",
    "        print(f'fold {i + 1}, train log rmse {float(train_ls[-1]):f},'\n",
    "             f'valid log rmse {float(valid_ls[-1]):f}')\n",
    "        if i == k - 1:\n",
    "            x = [i for i in range(len(train_ls))]\n",
    "            plt.plot(x, train_ls, label=\"Train\")\n",
    "            plt.plot(x, valid_ls, label=\"Valid\")\n",
    "            plt.legend()\n",
    "            plt.show()\n",
    "    \n",
    "    return train_l_sum / k, valid_l_sum / k\n",
    "\n",
    "\n",
    "k, num_epochs, lr, weight_decay, batch_size = 5, 100, 5, 0, 64\n",
    "train_l, valid_l = K_fold(k, train_features, train_labels, num_epochs, lr, weight_decay, batch_size)\n",
    "print(\"%d-折验证，平均训练log rmse: %f，平均验证log rmse: %f\" % (k, train_l, valid_l))"
   ]
  },
  {
   "cell_type": "code",
   "execution_count": null,
   "id": "3374f1a7",
   "metadata": {},
   "outputs": [],
   "source": []
  }
 ],
 "metadata": {
  "kernelspec": {
   "display_name": "Python [conda env:torch]",
   "language": "python",
   "name": "conda-env-torch-py"
  },
  "language_info": {
   "codemirror_mode": {
    "name": "ipython",
    "version": 3
   },
   "file_extension": ".py",
   "mimetype": "text/x-python",
   "name": "python",
   "nbconvert_exporter": "python",
   "pygments_lexer": "ipython3",
   "version": "3.6.13"
  }
 },
 "nbformat": 4,
 "nbformat_minor": 5
}
